{
 "cells": [
  {
   "cell_type": "markdown",
   "id": "threaded-antibody",
   "metadata": {},
   "source": [
    "The next example was taken from https://medium.com/qvault/aes-256-cipher-python-cryptography-examples-b877b9d2e45e"
   ]
  },
  {
   "cell_type": "code",
   "execution_count": 2,
   "id": "executed-channels",
   "metadata": {},
   "outputs": [
    {
     "name": "stdout",
     "output_type": "stream",
     "text": [
      "Requirement already satisfied: pycrypto in c:\\users\\usuario\\anaconda3\\envs\\ia\\lib\\site-packages (2.6.1)\n"
     ]
    }
   ],
   "source": [
    "!pip install pycrypto"
   ]
  },
  {
   "cell_type": "code",
   "execution_count": 8,
   "id": "comfortable-toolbox",
   "metadata": {},
   "outputs": [],
   "source": [
    "import base64\n",
    "import hashlib\n",
    "from Crypto import Random\n",
    "import os\n",
    "from Crypto.Cipher import AES"
   ]
  },
  {
   "cell_type": "code",
   "execution_count": 4,
   "id": "peripheral-queue",
   "metadata": {},
   "outputs": [],
   "source": [
    "# pad with spaces at the end of the text\n",
    "# beacuse AES needs 16 byte blocks\n",
    "def pad(s):\n",
    "    block_size = 16\n",
    "    remainder = len(s) % block_size\n",
    "    padding_needed = block_size - remainder\n",
    "    return s + padding_needed * ' '"
   ]
  },
  {
   "cell_type": "code",
   "execution_count": 5,
   "id": "pretty-relation",
   "metadata": {},
   "outputs": [],
   "source": [
    "# remove the extra spaces at the end\n",
    "def unpad(s): \n",
    "    return s.rstrip()"
   ]
  },
  {
   "cell_type": "code",
   "execution_count": 14,
   "id": "continued-hormone",
   "metadata": {},
   "outputs": [],
   "source": [
    "salt = os.urandom(AES.block_size)\n",
    "# generate a random iv\n",
    "iv = Random.new().read(AES.block_size)"
   ]
  },
  {
   "cell_type": "code",
   "execution_count": 24,
   "id": "conceptual-windows",
   "metadata": {},
   "outputs": [],
   "source": [
    "def encrypt(plain_text, password=\"password@187_quantil\"):\n",
    "    # generate a random salt\n",
    "   \n",
    "\n",
    "    # use the Scrypt KDF to get a private key from the password\n",
    "    private_key = hashlib.scrypt(password.encode(), salt=salt, n=2**14, r=8, p=1, dklen=32)\n",
    "\n",
    "    # pad text with spaces to be valid for AES CBC mode\n",
    "    padded_text = pad(plain_text)\n",
    "    \n",
    "    # create cipher config\n",
    "    cipher_config = AES.new(private_key, AES.MODE_CBC, iv)\n",
    "\n",
    "    # return a dictionary with the encrypted text\n",
    "    return {\n",
    "        'cipher_text': base64.b64encode(cipher_config.encrypt(padded_text)),\n",
    "#         'salt': base64.b64encode(salt),\n",
    "#         'iv': base64.b64encode(iv)\n",
    "    }"
   ]
  },
  {
   "cell_type": "code",
   "execution_count": 18,
   "id": "backed-creativity",
   "metadata": {},
   "outputs": [],
   "source": [
    "import pandas as pd\n",
    "\n",
    "data = {\"cedulas\":[\"112231\", \"6650789\", \"789455\"], \"nombres\": [\"christian\", \"david\", \"daniel\"]}\n",
    "\n",
    "df = pd.DataFrame(data)"
   ]
  },
  {
   "cell_type": "code",
   "execution_count": 25,
   "id": "announced-catering",
   "metadata": {},
   "outputs": [
    {
     "data": {
      "text/plain": [
       "0    {'cipher_text': b'm7BAYmuXsuNBI908FcipzA=='}\n",
       "1    {'cipher_text': b'WUjc0gqDrnOWYPSu/5l29w=='}\n",
       "2    {'cipher_text': b'08fHtgMzkvxxKnF090AjTg=='}\n",
       "Name: cedulas, dtype: object"
      ]
     },
     "execution_count": 25,
     "metadata": {},
     "output_type": "execute_result"
    }
   ],
   "source": [
    "df.cedulas.apply(encrypt)"
   ]
  },
  {
   "cell_type": "code",
   "execution_count": 26,
   "id": "boxed-allocation",
   "metadata": {},
   "outputs": [
    {
     "data": {
      "text/plain": [
       "0    {'cipher_text': b'ttk9wQj4AafZ2k3879iOWw=='}\n",
       "1    {'cipher_text': b'YKhlcctBLQbE40rtIOMHSw=='}\n",
       "2    {'cipher_text': b'7G1M4AIYO+QQMZ5lDHM+NA=='}\n",
       "Name: nombres, dtype: object"
      ]
     },
     "execution_count": 26,
     "metadata": {},
     "output_type": "execute_result"
    }
   ],
   "source": [
    "df.nombres.apply(encrypt)"
   ]
  }
 ],
 "metadata": {
  "kernelspec": {
   "display_name": "Python 3",
   "language": "python",
   "name": "python3"
  },
  "language_info": {
   "codemirror_mode": {
    "name": "ipython",
    "version": 3
   },
   "file_extension": ".py",
   "mimetype": "text/x-python",
   "name": "python",
   "nbconvert_exporter": "python",
   "pygments_lexer": "ipython3",
   "version": "3.7.10"
  }
 },
 "nbformat": 4,
 "nbformat_minor": 5
}
